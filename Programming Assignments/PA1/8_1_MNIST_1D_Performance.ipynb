{
 "cells": [
  {
   "cell_type": "markdown",
   "metadata": {
    "colab_type": "text",
    "id": "view-in-github"
   },
   "source": [
    "<a href=\"https://colab.research.google.com/github/udlbook/udlbook/blob/main/Notebooks/Chap08/8_1_MNIST_1D_Performance.ipynb\" target=\"_parent\"><img src=\"https://colab.research.google.com/assets/colab-badge.svg\" alt=\"Open In Colab\"/></a>"
   ]
  },
  {
   "cell_type": "markdown",
   "metadata": {
    "id": "L6chybAVFJW2"
   },
   "source": [
    "# **Notebook 8.1: MNIST_1D_Performance**\n",
    "\n",
    "This notebook runs a simple neural network on the MNIST1D dataset as in figure 8.2a. It uses code from https://github.com/greydanus/mnist1d to generate the data.\n",
    "\n",
    "Work through the cells below, running each cell in turn. In various places you will see the words \"TO DO\". Follow the instructions at these places and make predictions about what is going to happen or write code to complete the functions.\n",
    "\n",
    "Contact me at udlbookmail@gmail.com if you find any mistakes or have any suggestions."
   ]
  },
  {
   "cell_type": "code",
   "metadata": {
    "id": "ifVjS4cTOqKz",
    "ExecuteTime": {
     "end_time": "2025-02-15T21:52:45.574319Z",
     "start_time": "2025-02-15T21:52:44.775893Z"
    }
   },
   "source": [
    "# Run this if you're in a Colab to install MNIST 1D repository\n",
    "%pip install git+https://github.com/greydanus/mnist1d"
   ],
   "outputs": [
    {
     "name": "stdout",
     "output_type": "stream",
     "text": [
      "^C\n",
      "Note: you may need to restart the kernel to use updated packages.\n"
     ]
    }
   ],
   "execution_count": 2
  },
  {
   "cell_type": "code",
   "metadata": {
    "id": "qyE7G1StPIqO",
    "ExecuteTime": {
     "end_time": "2025-02-15T21:52:47.794666Z",
     "start_time": "2025-02-15T21:52:47.373551Z"
    }
   },
   "source": [
    "import torch, torch.nn as nn\n",
    "from torch.utils.data import TensorDataset, DataLoader\n",
    "from torch.optim.lr_scheduler import StepLR\n",
    "import numpy as np\n",
    "import matplotlib.pyplot as plt\n",
    "import mnist1d"
   ],
   "outputs": [],
   "execution_count": 3
  },
  {
   "cell_type": "markdown",
   "metadata": {
    "id": "F7LNq72SP6jO"
   },
   "source": [
    "Let's generate a training and test dataset using the MNIST1D code.  The dataset gets saved as a .pkl file so it doesn't have to be regenerated each time."
   ]
  },
  {
   "cell_type": "code",
   "metadata": {
    "id": "YLxf7dJfPaqw",
    "ExecuteTime": {
     "end_time": "2025-02-15T21:53:20.462468Z",
     "start_time": "2025-02-15T21:53:20.449762Z"
    }
   },
   "source": [
    "args = mnist1d.data.get_dataset_args()\n",
    "data = mnist1d.data.get_dataset(args, path='./mnist1d_data.pkl', download=False, regenerate=False)\n",
    "\n",
    "# The training and test input and outputs are in\n",
    "# data['x'], data['y'], data['x_test'], and data['y_test']\n",
    "print(\"Examples in training set: {}\".format(len(data['y'])))\n",
    "print(\"Examples in test set: {}\".format(len(data['y_test'])))\n",
    "print(\"Length of each example: {}\".format(data['x'].shape[-1]))"
   ],
   "outputs": [
    {
     "name": "stdout",
     "output_type": "stream",
     "text": [
      "Successfully loaded data from ./mnist1d_data.pkl\n",
      "Examples in training set: 4000\n",
      "Examples in test set: 1000\n",
      "Length of each example: 40\n"
     ]
    }
   ],
   "execution_count": 5
  },
  {
   "cell_type": "code",
   "metadata": {
    "id": "FxaB5vc0uevl",
    "ExecuteTime": {
     "end_time": "2025-02-15T21:58:56.414909Z",
     "start_time": "2025-02-15T21:58:56.397563Z"
    }
   },
   "source": [
    "D_i = 40    # Input dimensions\n",
    "D_k = 100   # Hidden dimensions\n",
    "D_o = 10    # Output dimensions\n",
    "# TO DO:\n",
    "# Define a model with two hidden layers of size 100\n",
    "# And ReLU activations between them\n",
    "# Replace this line (see Figure 7.8 of book for help):\n",
    "model = torch.nn.Sequential(\n",
    "    nn.Linear(D_i, D_k),\n",
    "    nn.ReLU(),\n",
    "    nn.Linear(D_k, D_k),\n",
    "    nn.ReLU(),\n",
    "    nn.Linear(D_k, D_o),\n",
    ")\n",
    "\n",
    "def weights_init(layer_in):\n",
    "  # TO DO:\n",
    "  # Initialize the parameters with He initialization\n",
    "  # Replace this line (see figure 7.8 of book for help)\n",
    "  if isinstance(layer_in, nn.Linear):\n",
    "      nn.init.kaiming_normal_(layer_in.weight)\n",
    "      layer_in.bias.data.fill_(0.0)\n",
    "  print(\"Initializing layer\")\n",
    "\n",
    "\n",
    "# Call the function you just defined\n",
    "model.apply(weights_init)\n"
   ],
   "outputs": [
    {
     "name": "stdout",
     "output_type": "stream",
     "text": [
      "Initializing layer\n",
      "Initializing layer\n",
      "Initializing layer\n",
      "Initializing layer\n",
      "Initializing layer\n",
      "Initializing layer\n"
     ]
    },
    {
     "data": {
      "text/plain": [
       "Sequential(\n",
       "  (0): Linear(in_features=40, out_features=100, bias=True)\n",
       "  (1): ReLU()\n",
       "  (2): Linear(in_features=100, out_features=100, bias=True)\n",
       "  (3): ReLU()\n",
       "  (4): Linear(in_features=100, out_features=10, bias=True)\n",
       ")"
      ]
     },
     "execution_count": 8,
     "metadata": {},
     "output_type": "execute_result"
    }
   ],
   "execution_count": 8
  },
  {
   "cell_type": "code",
   "metadata": {
    "id": "_rX6N3VyyQTY",
    "ExecuteTime": {
     "end_time": "2025-02-15T22:01:10.012047Z",
     "start_time": "2025-02-15T22:01:05.698381Z"
    }
   },
   "source": [
    "# choose cross entropy loss function (equation 5.24)\n",
    "loss_function = torch.nn.CrossEntropyLoss()\n",
    "# construct SGD optimizer and initialize learning rate and momentum\n",
    "optimizer = torch.optim.SGD(model.parameters(), lr = 0.05, momentum=0.9)\n",
    "# object that decreases learning rate by half every 10 epochs\n",
    "scheduler = StepLR(optimizer, step_size=10, gamma=0.5)\n",
    "x_train = torch.tensor(data['x'].astype('float32'))\n",
    "y_train = torch.tensor(data['y'].transpose().astype('int64'))\n",
    "x_test= torch.tensor(data['x_test'].astype('float32'))\n",
    "y_test = torch.tensor(data['y_test'].astype('int64'))\n",
    "\n",
    "# load the data into a class that creates the batches\n",
    "data_loader = DataLoader(TensorDataset(x_train,y_train), batch_size=100, shuffle=True, worker_init_fn=np.random.seed(1))\n",
    "\n",
    "# Initialize model weights\n",
    "model.apply(weights_init)\n",
    "\n",
    "# loop over the dataset n_epoch times\n",
    "n_epoch = 50\n",
    "# store the loss and the % correct at each epoch\n",
    "losses_train = np.zeros((n_epoch))\n",
    "errors_train = np.zeros((n_epoch))\n",
    "losses_test = np.zeros((n_epoch))\n",
    "errors_test = np.zeros((n_epoch))\n",
    "\n",
    "for epoch in range(n_epoch):\n",
    "  # loop over batches\n",
    "  for i, batch in enumerate(data_loader):\n",
    "    # retrieve inputs and labels for this batch\n",
    "    x_batch, y_batch = batch\n",
    "    # zero the parameter gradients\n",
    "    optimizer.zero_grad()\n",
    "    # forward pass -- calculate model output\n",
    "    pred = model(x_batch)\n",
    "    # compute the loss\n",
    "    loss = loss_function(pred, y_batch)\n",
    "    # backward pass\n",
    "    loss.backward()\n",
    "    # SGD update\n",
    "    optimizer.step()\n",
    "\n",
    "  # Run whole dataset to get statistics -- normally wouldn't do this\n",
    "  pred_train = model(x_train)\n",
    "  pred_test = model(x_test)\n",
    "  _, predicted_train_class = torch.max(pred_train.data, 1)\n",
    "  _, predicted_test_class = torch.max(pred_test.data, 1)\n",
    "  errors_train[epoch] = 100 - 100 * (predicted_train_class == y_train).float().sum() / len(y_train)\n",
    "  errors_test[epoch]= 100 - 100 * (predicted_test_class == y_test).float().sum() / len(y_test)\n",
    "  losses_train[epoch] = loss_function(pred_train, y_train).item()\n",
    "  losses_test[epoch]= loss_function(pred_test, y_test).item()\n",
    "  print(f'Epoch {epoch:5d}, train loss {losses_train[epoch]:.6f}, train error {errors_train[epoch]:3.2f},  test loss {losses_test[epoch]:.6f}, test error {errors_test[epoch]:3.2f}')\n",
    "\n",
    "  # tell scheduler to consider updating learning rate\n",
    "  scheduler.step()"
   ],
   "outputs": [
    {
     "name": "stdout",
     "output_type": "stream",
     "text": [
      "Initializing layer\n",
      "Initializing layer\n",
      "Initializing layer\n",
      "Initializing layer\n",
      "Initializing layer\n",
      "Initializing layer\n",
      "Epoch     0, train loss 1.657046, train error 65.07,  test loss 1.695334, test error 69.10\n",
      "Epoch     1, train loss 1.433694, train error 56.00,  test loss 1.551058, test error 62.20\n",
      "Epoch     2, train loss 1.211110, train error 42.75,  test loss 1.378854, test error 52.00\n",
      "Epoch     3, train loss 1.050618, train error 37.83,  test loss 1.294147, test error 48.50\n",
      "Epoch     4, train loss 0.955599, train error 33.75,  test loss 1.246094, test error 48.80\n",
      "Epoch     5, train loss 0.837066, train error 29.57,  test loss 1.163047, test error 44.60\n",
      "Epoch     6, train loss 0.731346, train error 25.38,  test loss 1.125414, test error 41.80\n",
      "Epoch     7, train loss 0.655697, train error 21.15,  test loss 1.104504, test error 42.50\n",
      "Epoch     8, train loss 0.590887, train error 20.25,  test loss 1.132237, test error 44.10\n",
      "Epoch     9, train loss 0.517104, train error 16.97,  test loss 1.115614, test error 41.30\n",
      "Epoch    10, train loss 0.413899, train error 11.65,  test loss 1.051605, test error 38.40\n",
      "Epoch    11, train loss 0.384684, train error 10.75,  test loss 1.060277, test error 38.70\n",
      "Epoch    12, train loss 0.346499, train error 9.12,  test loss 1.077028, test error 37.90\n",
      "Epoch    13, train loss 0.312844, train error 7.68,  test loss 1.072509, test error 36.70\n",
      "Epoch    14, train loss 0.297034, train error 7.95,  test loss 1.099505, test error 37.00\n",
      "Epoch    15, train loss 0.269141, train error 6.40,  test loss 1.129532, test error 38.10\n",
      "Epoch    16, train loss 0.243765, train error 5.50,  test loss 1.104945, test error 37.40\n",
      "Epoch    17, train loss 0.231611, train error 5.22,  test loss 1.160041, test error 38.00\n",
      "Epoch    18, train loss 0.209624, train error 4.43,  test loss 1.170559, test error 36.60\n",
      "Epoch    19, train loss 0.187004, train error 3.20,  test loss 1.171824, test error 36.90\n",
      "Epoch    20, train loss 0.162459, train error 2.30,  test loss 1.163426, test error 36.80\n",
      "Epoch    21, train loss 0.151950, train error 1.93,  test loss 1.174088, test error 37.40\n",
      "Epoch    22, train loss 0.143956, train error 1.62,  test loss 1.188298, test error 37.00\n",
      "Epoch    23, train loss 0.138728, train error 1.75,  test loss 1.189390, test error 37.40\n",
      "Epoch    24, train loss 0.130556, train error 1.22,  test loss 1.220252, test error 37.80\n",
      "Epoch    25, train loss 0.125652, train error 1.28,  test loss 1.232608, test error 36.70\n",
      "Epoch    26, train loss 0.117960, train error 1.10,  test loss 1.229668, test error 36.20\n",
      "Epoch    27, train loss 0.114037, train error 1.00,  test loss 1.235464, test error 37.00\n",
      "Epoch    28, train loss 0.107716, train error 0.82,  test loss 1.264117, test error 37.80\n",
      "Epoch    29, train loss 0.103757, train error 0.93,  test loss 1.272637, test error 36.70\n",
      "Epoch    30, train loss 0.097471, train error 0.57,  test loss 1.274570, test error 36.60\n",
      "Epoch    31, train loss 0.094608, train error 0.55,  test loss 1.273907, test error 36.20\n",
      "Epoch    32, train loss 0.092236, train error 0.55,  test loss 1.274930, test error 37.00\n",
      "Epoch    33, train loss 0.090567, train error 0.50,  test loss 1.280657, test error 36.50\n",
      "Epoch    34, train loss 0.088049, train error 0.43,  test loss 1.288642, test error 36.60\n",
      "Epoch    35, train loss 0.086961, train error 0.43,  test loss 1.293424, test error 36.40\n",
      "Epoch    36, train loss 0.084386, train error 0.40,  test loss 1.310031, test error 36.70\n",
      "Epoch    37, train loss 0.081907, train error 0.40,  test loss 1.306973, test error 36.40\n",
      "Epoch    38, train loss 0.080468, train error 0.32,  test loss 1.318239, test error 37.00\n",
      "Epoch    39, train loss 0.078749, train error 0.25,  test loss 1.315688, test error 36.10\n",
      "Epoch    40, train loss 0.077224, train error 0.28,  test loss 1.318834, test error 36.10\n",
      "Epoch    41, train loss 0.076418, train error 0.32,  test loss 1.322710, test error 36.70\n",
      "Epoch    42, train loss 0.075538, train error 0.25,  test loss 1.324137, test error 36.00\n",
      "Epoch    43, train loss 0.074606, train error 0.28,  test loss 1.325367, test error 36.40\n",
      "Epoch    44, train loss 0.073737, train error 0.30,  test loss 1.329960, test error 36.20\n",
      "Epoch    45, train loss 0.072994, train error 0.25,  test loss 1.330763, test error 36.20\n",
      "Epoch    46, train loss 0.072290, train error 0.28,  test loss 1.336324, test error 36.40\n",
      "Epoch    47, train loss 0.071625, train error 0.18,  test loss 1.338144, test error 35.90\n",
      "Epoch    48, train loss 0.070738, train error 0.22,  test loss 1.340871, test error 36.40\n",
      "Epoch    49, train loss 0.070014, train error 0.18,  test loss 1.341356, test error 36.40\n"
     ]
    }
   ],
   "execution_count": 9
  },
  {
   "cell_type": "code",
   "metadata": {
    "id": "yI-l6kA_EH9G",
    "ExecuteTime": {
     "end_time": "2025-02-15T22:01:16.367238Z",
     "start_time": "2025-02-15T22:01:16.144945Z"
    }
   },
   "source": [
    "# Plot the results\n",
    "fig, ax = plt.subplots()\n",
    "ax.plot(errors_train,'r-',label='train')\n",
    "ax.plot(errors_test,'b-',label='test')\n",
    "ax.set_ylim(0,100); ax.set_xlim(0,n_epoch)\n",
    "ax.set_xlabel('Epoch'); ax.set_ylabel('Error')\n",
    "ax.set_title('TrainError %3.2f, Test Error %3.2f'%(errors_train[-1],errors_test[-1]))\n",
    "ax.legend()\n",
    "plt.show()\n",
    "\n",
    "# Plot the results\n",
    "fig, ax = plt.subplots()\n",
    "ax.plot(losses_train,'r-',label='train')\n",
    "ax.plot(losses_test,'b-',label='test')\n",
    "ax.set_xlim(0,n_epoch)\n",
    "ax.set_xlabel('Epoch'); ax.set_ylabel('Loss')\n",
    "ax.set_title('Train loss %3.2f, Test loss %3.2f'%(losses_train[-1],losses_test[-1]))\n",
    "ax.legend()\n",
    "plt.show()"
   ],
   "outputs": [
    {
     "data": {
      "text/plain": [
       "<Figure size 640x480 with 1 Axes>"
      ],
      "image/png": "[encoded data removed]"
     },
     "metadata": {},
     "output_type": "display_data"
    },
    {
     "data": {
      "text/plain": [
       "<Figure size 640x480 with 1 Axes>"
      ],
      "image/png": "[encoded data removed]"
     },
     "metadata": {},
     "output_type": "display_data"
    }
   ],
   "execution_count": 10
  },
  {
   "cell_type": "markdown",
   "metadata": {
    "id": "q-yT6re6GZS4"
   },
   "source": [
    "**TO DO**\n",
    "\n",
    "Play with the model -- try changing the number of layers, hidden units, learning rate, batch size, momentum or anything else you like.  See if you can improve the test results.\n",
    "\n",
    "Is it a good idea to optimize the hyperparameters in this way?  Will the final result be a good estimate of the true test performance?"
   ]
  },
  {
   "metadata": {},
   "cell_type": "code",
   "outputs": [],
   "execution_count": null,
   "source": ""
  }
 ],
 "metadata": {
  "accelerator": "GPU",
  "colab": {
   "authorship_tag": "ABX9TyOuKMUcKfOIhIL2qTX9jJCy",
   "gpuType": "T4",
   "include_colab_link": true,
   "provenance": []
  },
  "kernelspec": {
   "display_name": "Python 3 (ipykernel)",
   "name": "python3",
   "language": "python"
  },
  "language_info": {
   "name": "python"
  }
 },
 "nbformat": 4,
 "nbformat_minor": 0
}
